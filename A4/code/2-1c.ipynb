{
 "cells": [
  {
   "cell_type": "markdown",
   "metadata": {},
   "source": [
    "# Library Imports"
   ]
  },
  {
   "cell_type": "code",
   "execution_count": 1,
   "metadata": {
    "_cell_guid": "b1076dfc-b9ad-4769-8c92-a6c4dae69d19",
    "_uuid": "8f2839f25d086af736a60e9eeb907d3b93b6e0e5"
   },
   "outputs": [],
   "source": [
    "import numpy as np\n",
    "import pandas as pd\n",
    "\n",
    "from pandas import read_csv\n",
    "from matplotlib import pyplot as plt\n",
    "from pandas.plotting import autocorrelation_plot\n",
    "\n",
    "from prophet import Prophet\n",
    "\n",
    "from sklearn.preprocessing import StandardScaler"
   ]
  },
  {
   "cell_type": "markdown",
   "metadata": {},
   "source": [
    "# Data Pre-processing"
   ]
  },
  {
   "cell_type": "markdown",
   "metadata": {},
   "source": [
    "We convert the string's with commas to integers, and the float columns to float<br>\n",
    "Also, transform YEAR and MONTH to a single MONTH with datetime type, and sort the dataframe according to that"
   ]
  },
  {
   "cell_type": "code",
   "execution_count": 2,
   "metadata": {},
   "outputs": [
    {
     "data": {
      "text/html": [
       "<div>\n",
       "<style scoped>\n",
       "    .dataframe tbody tr th:only-of-type {\n",
       "        vertical-align: middle;\n",
       "    }\n",
       "\n",
       "    .dataframe tbody tr th {\n",
       "        vertical-align: top;\n",
       "    }\n",
       "\n",
       "    .dataframe thead th {\n",
       "        text-align: right;\n",
       "    }\n",
       "</style>\n",
       "<table border=\"1\" class=\"dataframe\">\n",
       "  <thead>\n",
       "    <tr style=\"text-align: right;\">\n",
       "      <th></th>\n",
       "      <th>AIRLINE</th>\n",
       "      <th>MONTH</th>\n",
       "      <th>TOTAL DEPARTURES</th>\n",
       "      <th>HOURS FLOWN</th>\n",
       "      <th>KILOMETRE FLOWN</th>\n",
       "      <th>PASSENGERS CARRIED</th>\n",
       "      <th>AVAILABLE SEAT KILOMETRE (IN THOUSAND)</th>\n",
       "      <th>FREIGHT CARRIED (IN TONNE)</th>\n",
       "      <th>MAIL CARRIED (IN TONNE)</th>\n",
       "    </tr>\n",
       "  </thead>\n",
       "  <tbody>\n",
       "    <tr>\n",
       "      <th>0</th>\n",
       "      <td>A007</td>\n",
       "      <td>2013-01-01</td>\n",
       "      <td>10552.0</td>\n",
       "      <td>18655.0</td>\n",
       "      <td>10112.0</td>\n",
       "      <td>1408012.0</td>\n",
       "      <td>1820105.0</td>\n",
       "      <td>6465.0</td>\n",
       "      <td>0.0</td>\n",
       "    </tr>\n",
       "    <tr>\n",
       "      <th>1</th>\n",
       "      <td>A007</td>\n",
       "      <td>2013-02-01</td>\n",
       "      <td>9873.0</td>\n",
       "      <td>17374.0</td>\n",
       "      <td>9439.0</td>\n",
       "      <td>1341210.0</td>\n",
       "      <td>1698930.0</td>\n",
       "      <td>6235.0</td>\n",
       "      <td>0.0</td>\n",
       "    </tr>\n",
       "    <tr>\n",
       "      <th>2</th>\n",
       "      <td>A007</td>\n",
       "      <td>2013-03-01</td>\n",
       "      <td>11393.0</td>\n",
       "      <td>20093.0</td>\n",
       "      <td>11028.0</td>\n",
       "      <td>1423569.0</td>\n",
       "      <td>1984886.0</td>\n",
       "      <td>6505.0</td>\n",
       "      <td>0.0</td>\n",
       "    </tr>\n",
       "    <tr>\n",
       "      <th>3</th>\n",
       "      <td>A007</td>\n",
       "      <td>2013-04-01</td>\n",
       "      <td>11426.0</td>\n",
       "      <td>20084.0</td>\n",
       "      <td>11090.0</td>\n",
       "      <td>1511094.0</td>\n",
       "      <td>1996084.0</td>\n",
       "      <td>5903.0</td>\n",
       "      <td>0.0</td>\n",
       "    </tr>\n",
       "    <tr>\n",
       "      <th>4</th>\n",
       "      <td>A007</td>\n",
       "      <td>2013-05-01</td>\n",
       "      <td>11885.0</td>\n",
       "      <td>20779.0</td>\n",
       "      <td>11533.0</td>\n",
       "      <td>1685168.0</td>\n",
       "      <td>2075882.0</td>\n",
       "      <td>7345.0</td>\n",
       "      <td>0.0</td>\n",
       "    </tr>\n",
       "  </tbody>\n",
       "</table>\n",
       "</div>"
      ],
      "text/plain": [
       "  AIRLINE      MONTH  TOTAL DEPARTURES  HOURS FLOWN  KILOMETRE FLOWN  \\\n",
       "0    A007 2013-01-01           10552.0      18655.0          10112.0   \n",
       "1    A007 2013-02-01            9873.0      17374.0           9439.0   \n",
       "2    A007 2013-03-01           11393.0      20093.0          11028.0   \n",
       "3    A007 2013-04-01           11426.0      20084.0          11090.0   \n",
       "4    A007 2013-05-01           11885.0      20779.0          11533.0   \n",
       "\n",
       "   PASSENGERS CARRIED  AVAILABLE SEAT KILOMETRE (IN THOUSAND)  \\\n",
       "0           1408012.0                               1820105.0   \n",
       "1           1341210.0                               1698930.0   \n",
       "2           1423569.0                               1984886.0   \n",
       "3           1511094.0                               1996084.0   \n",
       "4           1685168.0                               2075882.0   \n",
       "\n",
       "    FREIGHT CARRIED (IN TONNE)  MAIL CARRIED (IN TONNE)  \n",
       "0                       6465.0                      0.0  \n",
       "1                       6235.0                      0.0  \n",
       "2                       6505.0                      0.0  \n",
       "3                       5903.0                      0.0  \n",
       "4                       7345.0                      0.0  "
      ]
     },
     "execution_count": 2,
     "metadata": {},
     "output_type": "execute_result"
    }
   ],
   "source": [
    "df = pd.read_csv(\"AirtrafficA4.csv\")\n",
    "for col in df.columns[3:]:\n",
    "    df[col] = pd.to_numeric(df[col].str.replace(\",\", \"\"), errors='coerce').astype('float64')\n",
    "\n",
    "df[\"MONTH\"] = df[\"MONTH\"].apply(lambda x : x.strip()).replace(\"JUNE\", \"JUN\").replace(\"JULY\", \"JUL\")\n",
    "\n",
    "df['MONTH'] = pd.to_datetime(df['YEAR'].astype(str) + '-' + df['MONTH'], format='%Y-%b')\n",
    "df = df.drop(\"YEAR\", axis=1)\n",
    "df = df.sort_values(\"MONTH\", ignore_index=True)\n",
    "\n",
    "df.head()"
   ]
  },
  {
   "cell_type": "code",
   "execution_count": 3,
   "metadata": {},
   "outputs": [
    {
     "data": {
      "text/plain": [
       "AIRLINE                                   0\n",
       "MONTH                                     0\n",
       "TOTAL DEPARTURES                          1\n",
       "HOURS FLOWN                               1\n",
       "KILOMETRE FLOWN                           1\n",
       "PASSENGERS CARRIED                        1\n",
       "AVAILABLE SEAT KILOMETRE (IN THOUSAND)    1\n",
       " FREIGHT CARRIED (IN TONNE)               1\n",
       "MAIL CARRIED (IN TONNE)                   2\n",
       "dtype: int64"
      ]
     },
     "execution_count": 3,
     "metadata": {},
     "output_type": "execute_result"
    }
   ],
   "source": [
    "df.isna().sum()"
   ]
  },
  {
   "cell_type": "markdown",
   "metadata": {},
   "source": [
    "There are a only 2 rows with null values"
   ]
  },
  {
   "cell_type": "code",
   "execution_count": 4,
   "metadata": {},
   "outputs": [
    {
     "data": {
      "text/plain": [
       "<Axes: xlabel='MONTH'>"
      ]
     },
     "execution_count": 4,
     "metadata": {},
     "output_type": "execute_result"
    },
    {
     "data": {
      "image/png": "[encoded data removed]",
      "text/plain": [
       "<Figure size 640x480 with 1 Axes>"
      ]
     },
     "metadata": {},
     "output_type": "display_data"
    }
   ],
   "source": [
    "df.plot(x=\"MONTH\", y=\"PASSENGERS CARRIED\")"
   ]
  },
  {
   "cell_type": "markdown",
   "metadata": {},
   "source": [
    "The sudden dip in PASSENGERS CARRIED cooresponds to COVID-19 period. We specify that as a holiday period to prophet, as the jump from 2020-02-01 to 2022-03-01 seems nearly continuous"
   ]
  },
  {
   "cell_type": "code",
   "execution_count": 5,
   "metadata": {},
   "outputs": [
    {
     "data": {
      "text/html": [
       "<div>\n",
       "<style scoped>\n",
       "    .dataframe tbody tr th:only-of-type {\n",
       "        vertical-align: middle;\n",
       "    }\n",
       "\n",
       "    .dataframe tbody tr th {\n",
       "        vertical-align: top;\n",
       "    }\n",
       "\n",
       "    .dataframe thead th {\n",
       "        text-align: right;\n",
       "    }\n",
       "</style>\n",
       "<table border=\"1\" class=\"dataframe\">\n",
       "  <thead>\n",
       "    <tr style=\"text-align: right;\">\n",
       "      <th></th>\n",
       "      <th>holiday</th>\n",
       "      <th>ds</th>\n",
       "      <th>lower_window</th>\n",
       "      <th>ds_upper</th>\n",
       "      <th>upper_window</th>\n",
       "    </tr>\n",
       "  </thead>\n",
       "  <tbody>\n",
       "    <tr>\n",
       "      <th>0</th>\n",
       "      <td>lockdown</td>\n",
       "      <td>2020-03-01</td>\n",
       "      <td>0</td>\n",
       "      <td>2022-02-28</td>\n",
       "      <td>729</td>\n",
       "    </tr>\n",
       "  </tbody>\n",
       "</table>\n",
       "</div>"
      ],
      "text/plain": [
       "    holiday         ds  lower_window   ds_upper  upper_window\n",
       "0  lockdown 2020-03-01             0 2022-02-28           729"
      ]
     },
     "execution_count": 5,
     "metadata": {},
     "output_type": "execute_result"
    }
   ],
   "source": [
    "lockdowns = pd.DataFrame([\n",
    "    {'holiday': 'lockdown', 'ds': '2020-03-01', 'lower_window': 0, 'ds_upper': '2022-02-28'}\n",
    "])\n",
    "for t_col in ['ds', 'ds_upper']:\n",
    "    lockdowns[t_col] = pd.to_datetime(lockdowns[t_col])\n",
    "lockdowns['upper_window'] = (lockdowns['ds_upper'] - lockdowns['ds']).dt.days\n",
    "lockdowns"
   ]
  },
  {
   "cell_type": "code",
   "execution_count": 6,
   "metadata": {},
   "outputs": [
    {
     "data": {
      "text/html": [
       "<div>\n",
       "<style scoped>\n",
       "    .dataframe tbody tr th:only-of-type {\n",
       "        vertical-align: middle;\n",
       "    }\n",
       "\n",
       "    .dataframe tbody tr th {\n",
       "        vertical-align: top;\n",
       "    }\n",
       "\n",
       "    .dataframe thead th {\n",
       "        text-align: right;\n",
       "    }\n",
       "</style>\n",
       "<table border=\"1\" class=\"dataframe\">\n",
       "  <thead>\n",
       "    <tr style=\"text-align: right;\">\n",
       "      <th></th>\n",
       "      <th>ds</th>\n",
       "      <th>TOTAL DEPARTURES</th>\n",
       "      <th>HOURS FLOWN</th>\n",
       "      <th>KILOMETRE FLOWN</th>\n",
       "      <th>y</th>\n",
       "      <th>AVAILABLE SEAT KILOMETRE (IN THOUSAND)</th>\n",
       "      <th>FREIGHT CARRIED (IN TONNE)</th>\n",
       "      <th>MAIL CARRIED (IN TONNE)</th>\n",
       "    </tr>\n",
       "  </thead>\n",
       "  <tbody>\n",
       "    <tr>\n",
       "      <th>0</th>\n",
       "      <td>2013-01-01</td>\n",
       "      <td>10552.0</td>\n",
       "      <td>18655.0</td>\n",
       "      <td>10112.0</td>\n",
       "      <td>1408012.0</td>\n",
       "      <td>1820105.0</td>\n",
       "      <td>6465.0</td>\n",
       "      <td>0.0</td>\n",
       "    </tr>\n",
       "    <tr>\n",
       "      <th>1</th>\n",
       "      <td>2013-02-01</td>\n",
       "      <td>9873.0</td>\n",
       "      <td>17374.0</td>\n",
       "      <td>9439.0</td>\n",
       "      <td>1341210.0</td>\n",
       "      <td>1698930.0</td>\n",
       "      <td>6235.0</td>\n",
       "      <td>0.0</td>\n",
       "    </tr>\n",
       "    <tr>\n",
       "      <th>2</th>\n",
       "      <td>2013-03-01</td>\n",
       "      <td>11393.0</td>\n",
       "      <td>20093.0</td>\n",
       "      <td>11028.0</td>\n",
       "      <td>1423569.0</td>\n",
       "      <td>1984886.0</td>\n",
       "      <td>6505.0</td>\n",
       "      <td>0.0</td>\n",
       "    </tr>\n",
       "    <tr>\n",
       "      <th>3</th>\n",
       "      <td>2013-04-01</td>\n",
       "      <td>11426.0</td>\n",
       "      <td>20084.0</td>\n",
       "      <td>11090.0</td>\n",
       "      <td>1511094.0</td>\n",
       "      <td>1996084.0</td>\n",
       "      <td>5903.0</td>\n",
       "      <td>0.0</td>\n",
       "    </tr>\n",
       "    <tr>\n",
       "      <th>4</th>\n",
       "      <td>2013-05-01</td>\n",
       "      <td>11885.0</td>\n",
       "      <td>20779.0</td>\n",
       "      <td>11533.0</td>\n",
       "      <td>1685168.0</td>\n",
       "      <td>2075882.0</td>\n",
       "      <td>7345.0</td>\n",
       "      <td>0.0</td>\n",
       "    </tr>\n",
       "  </tbody>\n",
       "</table>\n",
       "</div>"
      ],
      "text/plain": [
       "          ds  TOTAL DEPARTURES  HOURS FLOWN  KILOMETRE FLOWN          y  \\\n",
       "0 2013-01-01           10552.0      18655.0          10112.0  1408012.0   \n",
       "1 2013-02-01            9873.0      17374.0           9439.0  1341210.0   \n",
       "2 2013-03-01           11393.0      20093.0          11028.0  1423569.0   \n",
       "3 2013-04-01           11426.0      20084.0          11090.0  1511094.0   \n",
       "4 2013-05-01           11885.0      20779.0          11533.0  1685168.0   \n",
       "\n",
       "   AVAILABLE SEAT KILOMETRE (IN THOUSAND)   FREIGHT CARRIED (IN TONNE)  \\\n",
       "0                               1820105.0                       6465.0   \n",
       "1                               1698930.0                       6235.0   \n",
       "2                               1984886.0                       6505.0   \n",
       "3                               1996084.0                       5903.0   \n",
       "4                               2075882.0                       7345.0   \n",
       "\n",
       "   MAIL CARRIED (IN TONNE)  \n",
       "0                      0.0  \n",
       "1                      0.0  \n",
       "2                      0.0  \n",
       "3                      0.0  \n",
       "4                      0.0  "
      ]
     },
     "execution_count": 6,
     "metadata": {},
     "output_type": "execute_result"
    }
   ],
   "source": [
    "df_clean = df.copy().drop(\"AIRLINE\", axis=1)\n",
    "df_clean.rename(columns={'MONTH': 'ds', 'PASSENGERS CARRIED': 'y'}, inplace=True)\n",
    "df_clean.head()"
   ]
  },
  {
   "cell_type": "markdown",
   "metadata": {},
   "source": [
    "# Model Training"
   ]
  },
  {
   "cell_type": "markdown",
   "metadata": {},
   "source": [
    "We use Prophet model for prediction"
   ]
  },
  {
   "cell_type": "code",
   "execution_count": 7,
   "metadata": {},
   "outputs": [],
   "source": [
    "scaler = StandardScaler()\n",
    "m = Prophet(holidays=lockdowns, interval_width=0.95, uncertainty_samples=2000)\n",
    "for col in (df_clean.columns[1:4].to_list() + df_clean.columns[5:-1].to_list()):\n",
    "    df_clean[col] = scaler.fit_transform(df_clean[[col]])\n",
    "    m.add_regressor(col, standardize=False)"
   ]
  },
  {
   "cell_type": "code",
   "execution_count": 8,
   "metadata": {},
   "outputs": [
    {
     "name": "stderr",
     "output_type": "stream",
     "text": [
      "16:55:03 - cmdstanpy - INFO - Chain [1] start processing\n",
      "16:55:03 - cmdstanpy - INFO - Chain [1] done processing\n"
     ]
    },
    {
     "data": {
      "text/plain": [
       "<prophet.forecaster.Prophet at 0x19866a74440>"
      ]
     },
     "execution_count": 8,
     "metadata": {},
     "output_type": "execute_result"
    }
   ],
   "source": [
    "train_size = int(0.8 * len(df_clean))\n",
    "train, test = df_clean[:train_size], df_clean[train_size:]\n",
    "\n",
    "train = train.copy()\n",
    "train[\"y\"] = scaler.fit_transform(train[[\"y\"]])\n",
    "m.fit(train)"
   ]
  },
  {
   "cell_type": "markdown",
   "metadata": {},
   "source": [
    "# Model Evaluation"
   ]
  },
  {
   "cell_type": "code",
   "execution_count": 9,
   "metadata": {},
   "outputs": [],
   "source": [
    "def mean_absolute_percentage_error(y_true, y_pred):\n",
    "    y_true, y_pred = np.array(y_true), np.array(y_pred)\n",
    "    return np.mean(np.abs((y_true - y_pred) / y_true)) * 100"
   ]
  },
  {
   "cell_type": "code",
   "execution_count": 10,
   "metadata": {},
   "outputs": [
    {
     "data": {
      "text/html": [
       "<div>\n",
       "<style scoped>\n",
       "    .dataframe tbody tr th:only-of-type {\n",
       "        vertical-align: middle;\n",
       "    }\n",
       "\n",
       "    .dataframe tbody tr th {\n",
       "        vertical-align: top;\n",
       "    }\n",
       "\n",
       "    .dataframe thead th {\n",
       "        text-align: right;\n",
       "    }\n",
       "</style>\n",
       "<table border=\"1\" class=\"dataframe\">\n",
       "  <thead>\n",
       "    <tr style=\"text-align: right;\">\n",
       "      <th></th>\n",
       "      <th>ds</th>\n",
       "      <th>trend</th>\n",
       "      <th>yhat_lower</th>\n",
       "      <th>yhat_upper</th>\n",
       "      <th>trend_lower</th>\n",
       "      <th>trend_upper</th>\n",
       "      <th>FREIGHT CARRIED (IN TONNE)</th>\n",
       "      <th>FREIGHT CARRIED (IN TONNE)_lower</th>\n",
       "      <th>FREIGHT CARRIED (IN TONNE)_upper</th>\n",
       "      <th>AVAILABLE SEAT KILOMETRE (IN THOUSAND)</th>\n",
       "      <th>...</th>\n",
       "      <th>lockdown</th>\n",
       "      <th>lockdown_lower</th>\n",
       "      <th>lockdown_upper</th>\n",
       "      <th>yearly</th>\n",
       "      <th>yearly_lower</th>\n",
       "      <th>yearly_upper</th>\n",
       "      <th>multiplicative_terms</th>\n",
       "      <th>multiplicative_terms_lower</th>\n",
       "      <th>multiplicative_terms_upper</th>\n",
       "      <th>yhat</th>\n",
       "    </tr>\n",
       "  </thead>\n",
       "  <tbody>\n",
       "    <tr>\n",
       "      <th>0</th>\n",
       "      <td>2021-07-01</td>\n",
       "      <td>0.434120</td>\n",
       "      <td>3.511140e+06</td>\n",
       "      <td>3.846973e+06</td>\n",
       "      <td>0.433538</td>\n",
       "      <td>0.434691</td>\n",
       "      <td>0.037473</td>\n",
       "      <td>0.037473</td>\n",
       "      <td>0.037473</td>\n",
       "      <td>-0.057371</td>\n",
       "      <td>...</td>\n",
       "      <td>0.0</td>\n",
       "      <td>0.0</td>\n",
       "      <td>0.0</td>\n",
       "      <td>-0.065763</td>\n",
       "      <td>-0.065763</td>\n",
       "      <td>-0.065763</td>\n",
       "      <td>0.0</td>\n",
       "      <td>0.0</td>\n",
       "      <td>0.0</td>\n",
       "      <td>0.263202</td>\n",
       "    </tr>\n",
       "    <tr>\n",
       "      <th>1</th>\n",
       "      <td>2021-08-01</td>\n",
       "      <td>0.430471</td>\n",
       "      <td>4.041387e+06</td>\n",
       "      <td>4.371144e+06</td>\n",
       "      <td>0.428709</td>\n",
       "      <td>0.432230</td>\n",
       "      <td>0.051118</td>\n",
       "      <td>0.051118</td>\n",
       "      <td>0.051118</td>\n",
       "      <td>0.037774</td>\n",
       "      <td>...</td>\n",
       "      <td>0.0</td>\n",
       "      <td>0.0</td>\n",
       "      <td>0.0</td>\n",
       "      <td>-0.076451</td>\n",
       "      <td>-0.076451</td>\n",
       "      <td>-0.076451</td>\n",
       "      <td>0.0</td>\n",
       "      <td>0.0</td>\n",
       "      <td>0.0</td>\n",
       "      <td>0.622987</td>\n",
       "    </tr>\n",
       "    <tr>\n",
       "      <th>2</th>\n",
       "      <td>2021-09-01</td>\n",
       "      <td>0.426823</td>\n",
       "      <td>4.239463e+06</td>\n",
       "      <td>4.575342e+06</td>\n",
       "      <td>0.423370</td>\n",
       "      <td>0.430360</td>\n",
       "      <td>0.050926</td>\n",
       "      <td>0.050926</td>\n",
       "      <td>0.050926</td>\n",
       "      <td>0.067045</td>\n",
       "      <td>...</td>\n",
       "      <td>0.0</td>\n",
       "      <td>0.0</td>\n",
       "      <td>0.0</td>\n",
       "      <td>-0.097858</td>\n",
       "      <td>-0.097858</td>\n",
       "      <td>-0.097858</td>\n",
       "      <td>0.0</td>\n",
       "      <td>0.0</td>\n",
       "      <td>0.0</td>\n",
       "      <td>0.751768</td>\n",
       "    </tr>\n",
       "    <tr>\n",
       "      <th>3</th>\n",
       "      <td>2021-10-01</td>\n",
       "      <td>0.423292</td>\n",
       "      <td>4.934869e+06</td>\n",
       "      <td>5.255913e+06</td>\n",
       "      <td>0.417895</td>\n",
       "      <td>0.428536</td>\n",
       "      <td>0.067726</td>\n",
       "      <td>0.067726</td>\n",
       "      <td>0.067726</td>\n",
       "      <td>0.191318</td>\n",
       "      <td>...</td>\n",
       "      <td>0.0</td>\n",
       "      <td>0.0</td>\n",
       "      <td>0.0</td>\n",
       "      <td>-0.072308</td>\n",
       "      <td>-0.072308</td>\n",
       "      <td>-0.072308</td>\n",
       "      <td>0.0</td>\n",
       "      <td>0.0</td>\n",
       "      <td>0.0</td>\n",
       "      <td>1.207035</td>\n",
       "    </tr>\n",
       "    <tr>\n",
       "      <th>4</th>\n",
       "      <td>2021-11-01</td>\n",
       "      <td>0.419644</td>\n",
       "      <td>5.720203e+06</td>\n",
       "      <td>6.057015e+06</td>\n",
       "      <td>0.412366</td>\n",
       "      <td>0.426942</td>\n",
       "      <td>0.036517</td>\n",
       "      <td>0.036517</td>\n",
       "      <td>0.036517</td>\n",
       "      <td>0.324458</td>\n",
       "      <td>...</td>\n",
       "      <td>0.0</td>\n",
       "      <td>0.0</td>\n",
       "      <td>0.0</td>\n",
       "      <td>0.007056</td>\n",
       "      <td>0.007056</td>\n",
       "      <td>0.007056</td>\n",
       "      <td>0.0</td>\n",
       "      <td>0.0</td>\n",
       "      <td>0.0</td>\n",
       "      <td>1.734494</td>\n",
       "    </tr>\n",
       "  </tbody>\n",
       "</table>\n",
       "<p>5 rows × 40 columns</p>\n",
       "</div>"
      ],
      "text/plain": [
       "          ds     trend    yhat_lower    yhat_upper  trend_lower  trend_upper  \\\n",
       "0 2021-07-01  0.434120  3.511140e+06  3.846973e+06     0.433538     0.434691   \n",
       "1 2021-08-01  0.430471  4.041387e+06  4.371144e+06     0.428709     0.432230   \n",
       "2 2021-09-01  0.426823  4.239463e+06  4.575342e+06     0.423370     0.430360   \n",
       "3 2021-10-01  0.423292  4.934869e+06  5.255913e+06     0.417895     0.428536   \n",
       "4 2021-11-01  0.419644  5.720203e+06  6.057015e+06     0.412366     0.426942   \n",
       "\n",
       "    FREIGHT CARRIED (IN TONNE)   FREIGHT CARRIED (IN TONNE)_lower  \\\n",
       "0                     0.037473                           0.037473   \n",
       "1                     0.051118                           0.051118   \n",
       "2                     0.050926                           0.050926   \n",
       "3                     0.067726                           0.067726   \n",
       "4                     0.036517                           0.036517   \n",
       "\n",
       "    FREIGHT CARRIED (IN TONNE)_upper  AVAILABLE SEAT KILOMETRE (IN THOUSAND)  \\\n",
       "0                           0.037473                               -0.057371   \n",
       "1                           0.051118                                0.037774   \n",
       "2                           0.050926                                0.067045   \n",
       "3                           0.067726                                0.191318   \n",
       "4                           0.036517                                0.324458   \n",
       "\n",
       "   ...  lockdown  lockdown_lower  lockdown_upper    yearly  yearly_lower  \\\n",
       "0  ...       0.0             0.0             0.0 -0.065763     -0.065763   \n",
       "1  ...       0.0             0.0             0.0 -0.076451     -0.076451   \n",
       "2  ...       0.0             0.0             0.0 -0.097858     -0.097858   \n",
       "3  ...       0.0             0.0             0.0 -0.072308     -0.072308   \n",
       "4  ...       0.0             0.0             0.0  0.007056      0.007056   \n",
       "\n",
       "   yearly_upper  multiplicative_terms  multiplicative_terms_lower  \\\n",
       "0     -0.065763                   0.0                         0.0   \n",
       "1     -0.076451                   0.0                         0.0   \n",
       "2     -0.097858                   0.0                         0.0   \n",
       "3     -0.072308                   0.0                         0.0   \n",
       "4      0.007056                   0.0                         0.0   \n",
       "\n",
       "   multiplicative_terms_upper      yhat  \n",
       "0                         0.0  0.263202  \n",
       "1                         0.0  0.622987  \n",
       "2                         0.0  0.751768  \n",
       "3                         0.0  1.207035  \n",
       "4                         0.0  1.734494  \n",
       "\n",
       "[5 rows x 40 columns]"
      ]
     },
     "execution_count": 10,
     "metadata": {},
     "output_type": "execute_result"
    }
   ],
   "source": [
    "pred = m.predict(test.drop('y', axis=1))\n",
    "pred[\"yhat_lower\"] = scaler.inverse_transform(pred[[\"yhat_lower\"]])\n",
    "pred[\"yhat_upper\"] = scaler.inverse_transform(pred[[\"yhat_upper\"]])\n",
    "pred.head()"
   ]
  },
  {
   "cell_type": "code",
   "execution_count": 11,
   "metadata": {},
   "outputs": [
    {
     "data": {
      "image/png": "[encoded data removed]",
      "text/plain": [
       "<Figure size 1000x600 with 1 Axes>"
      ]
     },
     "metadata": {},
     "output_type": "display_data"
    }
   ],
   "source": [
    "plt.figure(figsize=(10, 6))\n",
    "plt.plot(pred[\"ds\"], pred[\"yhat_lower\"], label=\"Lower Prediction\", color=\"orange\", linestyle=\"--\")\n",
    "plt.plot(pred[\"ds\"], pred[\"yhat_upper\"], label=\"Upper Prediction\", color=\"green\", linestyle=\"--\")\n",
    "plt.plot(test[\"ds\"], test[\"y\"], label=\"Actual Values\", color=\"blue\")\n",
    "plt.title(\"Predictions vs. Actual Values\")\n",
    "plt.xlabel(\"Date\")\n",
    "plt.ylabel(\"Values\")\n",
    "plt.legend()\n",
    "plt.show()"
   ]
  },
  {
   "cell_type": "code",
   "execution_count": 12,
   "metadata": {},
   "outputs": [
    {
     "name": "stdout",
     "output_type": "stream",
     "text": [
      "The mean absolute percentage error is 7.0683484408194%\n"
     ]
    }
   ],
   "source": [
    "mape = mean_absolute_percentage_error(test[\"y\"], (pred[\"yhat_lower\"] + pred[\"yhat_upper\"]) / 2)\n",
    "print(f\"The mean absolute percentage error is {mape}%\")"
   ]
  }
 ],
 "metadata": {
  "kaggle": {
   "accelerator": "none",
   "dataSources": [
    {
     "databundleVersionId": 9975526,
     "sourceId": 86788,
     "sourceType": "competition"
    }
   ],
   "dockerImageVersionId": 30786,
   "isGpuEnabled": false,
   "isInternetEnabled": true,
   "language": "python",
   "sourceType": "notebook"
  },
  "kernelspec": {
   "display_name": "Python 3 (ipykernel)",
   "language": "python",
   "name": "python3"
  },
  "language_info": {
   "codemirror_mode": {
    "name": "ipython",
    "version": 3
   },
   "file_extension": ".py",
   "mimetype": "text/x-python",
   "name": "python",
   "nbconvert_exporter": "python",
   "pygments_lexer": "ipython3",
   "version": "3.12.1"
  }
 },
 "nbformat": 4,
 "nbformat_minor": 4
}
