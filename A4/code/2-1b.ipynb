{
  "cells": [
    {
      "cell_type": "markdown",
      "metadata": {
        "id": "UZmhC9tqNmEo"
      },
      "source": [
        "# Imports"
      ]
    },
    {
      "cell_type": "code",
      "execution_count": 1,
      "metadata": {
        "id": "Eqvx3lJpNPYn"
      },
      "outputs": [],
      "source": [
        "import numpy as np\n",
        "import pandas as pd\n",
        "from matplotlib import pyplot as plt"
      ]
    },
    {
      "cell_type": "markdown",
      "metadata": {
        "id": "czp8km6HNuig"
      },
      "source": [
        "# Data Pre-processing"
      ]
    },
    {
      "cell_type": "code",
      "execution_count": 2,
      "metadata": {
        "id": "z8VnbhhuNcbD"
      },
      "outputs": [],
      "source": [
        "df = pd.read_csv(\"AirtrafficA4.csv\")\n",
        "for col in df.columns[3:-2]:\n",
        "    df[col] = pd.to_numeric(df[col].str.replace(\",\", \"\"), errors=\"coerce\").astype(\n",
        "        \"Int64\"\n",
        "    )\n",
        "\n",
        "df[df.columns[-2]] = pd.to_numeric(\n",
        "    df[df.columns[-2]].str.replace(\",\", \"\"), errors=\"coerce\"\n",
        ").astype(\"float64\")\n",
        "df[df.columns[-1]] = pd.to_numeric(\n",
        "    df[df.columns[-1]].str.replace(\",\", \"\"), errors=\"coerce\"\n",
        ").astype(\"float64\")\n",
        "df[\"MONTH\"] = (\n",
        "    df[\"MONTH\"].apply(lambda x: x.strip()).replace(\"JUNE\", \"JUN\").replace(\"JULY\", \"JUL\")\n",
        ")\n",
        "\n",
        "df[\"MONTH\"] = pd.to_datetime(df[\"YEAR\"].astype(str) + \"-\" + df[\"MONTH\"], format=\"%Y-%b\")\n",
        "df = df.drop(\"YEAR\", axis=1)\n",
        "df = df.sort_values(\"MONTH\", ignore_index=True)"
      ]
    },
    {
      "cell_type": "markdown",
      "metadata": {
        "id": "Y_txICrVNxjX"
      },
      "source": [
        "# Prompt Engineering"
      ]
    },
    {
      "cell_type": "code",
      "execution_count": 3,
      "metadata": {
        "id": "PPhrT6BXN4_Y"
      },
      "outputs": [],
      "source": [
        "train_size = int(0.9 * len(df))\n",
        "train, test = df[:train_size], df[train_size:]"
      ]
    },
    {
      "cell_type": "code",
      "execution_count": 4,
      "metadata": {
        "id": "bliUesFsNesc"
      },
      "outputs": [],
      "source": [
        "prompt = (\n",
        "    \"You are a helpful AI assistant, who makes accurate time series predictions. \"\n",
        "    + \"The user will provide a sequence of months and the number of passengers for each month. \"\n",
        "    + \"A data point is represented by a date string in %Y-%b format followed by a comma, followed by the number of passengers. \"\n",
        "    + \"Missing data is represented by the date string in %Y-%b format followed by a comma, followed by <NA>. \"\n",
        "    + \"The user will provide a sequence of data points, each separated by a newline. \"\n",
        ")\n",
        "additional_prompt = (\n",
        "    \"Please print the number of passengers for the next k months, where k will be specified before the data. \"\n",
        "    + \"Output only the numbers, not the dates. \"\n",
        "    + \"Each prediction should be separated by a comma with no space. \"\n",
        "    + \"Do not output any other text. \"\n",
        ")\n",
        "additional_prompt_2 = (\n",
        "    \"There are outliers due to COVID-19 in the data. Please take care of those while making predictions. \"\n",
        "    + \"Do not simply do linear interpolation.\"\n",
        "    + \"Make use of the seasonality and the increasing/decreasing trend of the sequence as it is not stationary. \"\n",
        "    + \"During COVID-19 the increasing trend is really weak, that is why consider the part before 2020 and after 2021 to fit to the trends. \"\n",
        "    + \"First value in your predictions should be close to the last value of the sequence that I input.\"\n",
        "    + \"\\nSequence:\"\n",
        ")\n",
        "string = f\" k={len(test)}\\n\" + \"\\n\".join(\n",
        "    f\"{row['MONTH'].strftime('%Y-%b')},{row['PASSENGERS CARRIED']}\"\n",
        "    for _, row in train.iterrows()\n",
        ")"
      ]
    },
    {
      "cell_type": "code",
      "execution_count": 5,
      "metadata": {
        "colab": {
          "base_uri": "https://localhost:8080/"
        },
        "id": "1PKN9jjxNhWq",
        "outputId": "9cb904e9-bd47-45ca-eae1-28be69eb7d8d"
      },
      "outputs": [
        {
          "output_type": "stream",
          "name": "stdout",
          "text": [
            "You are a helpful AI assistant, who makes accurate time series predictions. The user will provide a sequence of months and the number of passengers for each month. A data point is represented by a date string in %Y-%b format followed by a comma, followed by the number of passengers. Missing data is represented by the date string in %Y-%b format followed by a comma, followed by <NA>. The user will provide a sequence of data points, each separated by a newline. \n",
            "Please print the number of passengers for the next k months, where k will be specified before the data. Output only the numbers, not the dates. Each prediction should be separated by a comma with no space. Do not output any other text. \n",
            "There are outliers due to COVID-19 in the data. Please take care of those while making predictions. Do not simply do linear interpolation.Make use of the seasonality and the increasing/decreasing trend of the sequence as it is not stationary. During COVID-19 the increasing trend is really weak, that is why consider the part before 2020 and after 2021 to fit to the trends. First value in your predictions should be close to the last value of the sequence that I input.\n",
            "Sequence:\n",
            " k=13\n",
            "2013-Jan,1408012\n",
            "2013-Feb,1341210\n",
            "2013-Mar,1423569\n",
            "2013-Apr,1511094\n",
            "2013-May,1685168\n",
            "2013-Jun,1480879\n",
            "2013-Jul,1445248\n",
            "2013-Aug,1531406\n",
            "2013-Sep,1378691\n",
            "2013-Oct,1510184\n",
            "2013-Nov,1467763\n",
            "2013-Dec,1575872\n",
            "2014-Jan,1426580\n",
            "2014-Feb,1464070\n",
            "2014-Mar,1601141\n",
            "2014-Apr,1679963\n",
            "2014-May,1908334\n",
            "2014-Jun,1797101\n",
            "2014-Jul,1599977\n",
            "2014-Aug,1858664\n",
            "2014-Sep,1907378\n",
            "2014-Oct,1890273\n",
            "2014-Nov,1967992\n",
            "2014-Dec,2324221\n",
            "2015-Jan,2276404\n",
            "2015-Feb,2230645\n",
            "2015-Mar,2286128\n",
            "2015-Apr,2481285\n",
            "2015-May,2769283\n",
            "2015-Jun,2536554\n",
            "2015-Jul,2416916\n",
            "2015-Aug,2384943\n",
            "2015-Sep,2430449\n",
            "2015-Oct,2589861\n",
            "2015-Nov,2597765\n",
            "2015-Dec,2743325\n",
            "2016-Jan,2725711\n",
            "2016-Feb,2754131\n",
            "2016-Mar,3023228\n",
            "2016-Apr,3066556\n",
            "2016-May,3336839\n",
            "2016-Jun,3023081\n",
            "2016-Jul,3383768\n",
            "2016-Aug,3341081\n",
            "2016-Sep,3295826\n",
            "2016-Oct,3692828\n",
            "2016-Nov,3772583\n",
            "2016-Dec,3848322\n",
            "2017-Jan,3809228\n",
            "2017-Feb,3418605\n",
            "2017-Mar,3611371\n",
            "2017-Apr,3778780\n",
            "2017-May,4190914\n",
            "2017-Jun,3825814\n",
            "2017-Jul,3699451\n",
            "2017-Aug,3678245\n",
            "2017-Sep,3664509\n",
            "2017-Oct,4133027\n",
            "2017-Nov,4131844\n",
            "2017-Dec,4430070\n",
            "2018-Jan,4556904\n",
            "2018-Feb,4290189\n",
            "2018-Mar,4576236\n",
            "2018-Apr,4579916\n",
            "2018-May,4852909\n",
            "2018-Jun,4672686\n",
            "2018-Jul,5002416\n",
            "2018-Aug,4757378\n",
            "2018-Sep,4920335\n",
            "2018-Oct,5074853\n",
            "2018-Nov,5005919\n",
            "2018-Dec,5478523\n",
            "2019-Jan,5321832\n",
            "2019-Feb,4930608\n",
            "2019-Mar,5440796\n",
            "2019-Apr,5481088\n",
            "2019-May,5979551\n",
            "2019-Jun,5778376\n",
            "2019-Jul,5693448\n",
            "2019-Aug,5540693\n",
            "2019-Sep,5559031\n",
            "2019-Oct,5842318\n",
            "2019-Nov,6151347\n",
            "2019-Dec,6188457\n",
            "2020-Jan,6119924\n",
            "2020-Feb,5931189\n",
            "2020-Mar,3793464\n",
            "2020-Apr,<NA>\n",
            "2020-May,142254\n",
            "2020-Jun,1046836\n",
            "2020-Jul,1272240\n",
            "2020-Aug,1681787\n",
            "2020-Sep,2265539\n",
            "2020-Oct,2926835\n",
            "2020-Nov,3423059\n",
            "2020-Dec,3951522\n",
            "2021-Jan,4202712\n",
            "2021-Feb,4238466\n",
            "2021-Mar,4184920\n",
            "2021-Apr,3083318\n",
            "2021-May,1168738\n",
            "2021-Jun,1701955\n",
            "2021-Jul,2932469\n",
            "2021-Aug,3816286\n",
            "2021-Sep,3958375\n",
            "2021-Oct,4807415\n",
            "2021-Nov,5706021\n",
            "2021-Dec,6140654\n",
            "2022-Jan,3556558\n",
            "2022-Feb,3950597\n",
            "2022-Mar,5783838\n",
            "2022-Apr,5957411\n",
            "2022-May,6376429\n",
            "2022-Jun,5982787\n",
            "2022-Jul,5711288\n"
          ]
        }
      ],
      "source": [
        "print(prompt + \"\\n\" + additional_prompt + \"\\n\" + additional_prompt_2 + \"\\n\" + string)"
      ]
    },
    {
      "cell_type": "markdown",
      "metadata": {
        "id": "bw7vNTskNz9N"
      },
      "source": [
        "# Output Processing"
      ]
    },
    {
      "cell_type": "code",
      "execution_count": 6,
      "metadata": {
        "id": "DiQZ-1sTPJUS"
      },
      "outputs": [],
      "source": [
        "def mean_absolute_percentage_error(y_true, y_pred):\n",
        "    y_true, y_pred = np.array(y_true), np.array(y_pred)\n",
        "    return np.mean(np.abs((y_true - y_pred) / y_true)) * 100"
      ]
    },
    {
      "cell_type": "code",
      "execution_count": 7,
      "metadata": {
        "colab": {
          "base_uri": "https://localhost:8080/"
        },
        "id": "Wk4TX9g9Ni_6",
        "outputId": "69e3046a-ab19-40e3-e6f2-f12e4ed876cc"
      },
      "outputs": [
        {
          "output_type": "stream",
          "name": "stdout",
          "text": [
            "5821644,6092159,6270152,6375048,6201073,6359447,6457765,6631258,6352085,6602181,6720386,6849075,6900833\n",
            "The MAPE is 8.465705432372493\n"
          ]
        }
      ],
      "source": [
        "llm_output = input()\n",
        "pred = np.array([int(a) for a in llm_output.split(\",\")])\n",
        "print(f\"The MAPE is {mean_absolute_percentage_error(test['PASSENGERS CARRIED'].values, pred)}\")"
      ]
    },
    {
      "cell_type": "code",
      "execution_count": 8,
      "metadata": {
        "colab": {
          "base_uri": "https://localhost:8080/",
          "height": 487
        },
        "id": "TnEbRDRzPLyQ",
        "outputId": "3788c554-2cec-4699-c2f3-0ad1075f5500"
      },
      "outputs": [
        {
          "output_type": "display_data",
          "data": {
            "text/plain": [
              "<Figure size 1000x500 with 1 Axes>"
            ],
            "image/png": "[encoded data removed]"
          },
          "metadata": {}
        }
      ],
      "source": [
        "plt.figure(figsize=(10, 5))\n",
        "plt.plot(pred, marker='o', linestyle='-', color='b', label='Predicted')\n",
        "plt.plot(test['PASSENGERS CARRIED'].values, marker='o', linestyle='-', color='r', label='Actual')\n",
        "plt.title(\"Time Series Plot\")\n",
        "plt.xlabel(\"Time\")\n",
        "plt.ylabel(\"Value\")\n",
        "plt.grid(True)\n",
        "plt.show()"
      ]
    },
    {
      "cell_type": "markdown",
      "source": [
        "# Prediction Next 12 Months"
      ],
      "metadata": {
        "id": "NqpaIuUuJrGu"
      }
    },
    {
      "cell_type": "code",
      "source": [
        "prompt = \"Sequence: k=12\\n\"\n",
        "string = \"\\n\".join(\n",
        "    f\"{row['MONTH'].strftime('%Y-%b')},{row['PASSENGERS CARRIED']}\"\n",
        "    for _, row in df.iterrows()\n",
        ")\n",
        "print(prompt + string)"
      ],
      "metadata": {
        "colab": {
          "base_uri": "https://localhost:8080/"
        },
        "id": "gbOMoD7lJqYY",
        "outputId": "ba25d62b-b221-4fcc-8160-1f0fe166f2a7"
      },
      "execution_count": 9,
      "outputs": [
        {
          "output_type": "stream",
          "name": "stdout",
          "text": [
            "Sequence: k=12\n",
            "2013-Jan,1408012\n",
            "2013-Feb,1341210\n",
            "2013-Mar,1423569\n",
            "2013-Apr,1511094\n",
            "2013-May,1685168\n",
            "2013-Jun,1480879\n",
            "2013-Jul,1445248\n",
            "2013-Aug,1531406\n",
            "2013-Sep,1378691\n",
            "2013-Oct,1510184\n",
            "2013-Nov,1467763\n",
            "2013-Dec,1575872\n",
            "2014-Jan,1426580\n",
            "2014-Feb,1464070\n",
            "2014-Mar,1601141\n",
            "2014-Apr,1679963\n",
            "2014-May,1908334\n",
            "2014-Jun,1797101\n",
            "2014-Jul,1599977\n",
            "2014-Aug,1858664\n",
            "2014-Sep,1907378\n",
            "2014-Oct,1890273\n",
            "2014-Nov,1967992\n",
            "2014-Dec,2324221\n",
            "2015-Jan,2276404\n",
            "2015-Feb,2230645\n",
            "2015-Mar,2286128\n",
            "2015-Apr,2481285\n",
            "2015-May,2769283\n",
            "2015-Jun,2536554\n",
            "2015-Jul,2416916\n",
            "2015-Aug,2384943\n",
            "2015-Sep,2430449\n",
            "2015-Oct,2589861\n",
            "2015-Nov,2597765\n",
            "2015-Dec,2743325\n",
            "2016-Jan,2725711\n",
            "2016-Feb,2754131\n",
            "2016-Mar,3023228\n",
            "2016-Apr,3066556\n",
            "2016-May,3336839\n",
            "2016-Jun,3023081\n",
            "2016-Jul,3383768\n",
            "2016-Aug,3341081\n",
            "2016-Sep,3295826\n",
            "2016-Oct,3692828\n",
            "2016-Nov,3772583\n",
            "2016-Dec,3848322\n",
            "2017-Jan,3809228\n",
            "2017-Feb,3418605\n",
            "2017-Mar,3611371\n",
            "2017-Apr,3778780\n",
            "2017-May,4190914\n",
            "2017-Jun,3825814\n",
            "2017-Jul,3699451\n",
            "2017-Aug,3678245\n",
            "2017-Sep,3664509\n",
            "2017-Oct,4133027\n",
            "2017-Nov,4131844\n",
            "2017-Dec,4430070\n",
            "2018-Jan,4556904\n",
            "2018-Feb,4290189\n",
            "2018-Mar,4576236\n",
            "2018-Apr,4579916\n",
            "2018-May,4852909\n",
            "2018-Jun,4672686\n",
            "2018-Jul,5002416\n",
            "2018-Aug,4757378\n",
            "2018-Sep,4920335\n",
            "2018-Oct,5074853\n",
            "2018-Nov,5005919\n",
            "2018-Dec,5478523\n",
            "2019-Jan,5321832\n",
            "2019-Feb,4930608\n",
            "2019-Mar,5440796\n",
            "2019-Apr,5481088\n",
            "2019-May,5979551\n",
            "2019-Jun,5778376\n",
            "2019-Jul,5693448\n",
            "2019-Aug,5540693\n",
            "2019-Sep,5559031\n",
            "2019-Oct,5842318\n",
            "2019-Nov,6151347\n",
            "2019-Dec,6188457\n",
            "2020-Jan,6119924\n",
            "2020-Feb,5931189\n",
            "2020-Mar,3793464\n",
            "2020-Apr,<NA>\n",
            "2020-May,142254\n",
            "2020-Jun,1046836\n",
            "2020-Jul,1272240\n",
            "2020-Aug,1681787\n",
            "2020-Sep,2265539\n",
            "2020-Oct,2926835\n",
            "2020-Nov,3423059\n",
            "2020-Dec,3951522\n",
            "2021-Jan,4202712\n",
            "2021-Feb,4238466\n",
            "2021-Mar,4184920\n",
            "2021-Apr,3083318\n",
            "2021-May,1168738\n",
            "2021-Jun,1701955\n",
            "2021-Jul,2932469\n",
            "2021-Aug,3816286\n",
            "2021-Sep,3958375\n",
            "2021-Oct,4807415\n",
            "2021-Nov,5706021\n",
            "2021-Dec,6140654\n",
            "2022-Jan,3556558\n",
            "2022-Feb,3950597\n",
            "2022-Mar,5783838\n",
            "2022-Apr,5957411\n",
            "2022-May,6376429\n",
            "2022-Jun,5982787\n",
            "2022-Jul,5711288\n",
            "2022-Aug,5832025\n",
            "2022-Sep,5972449\n",
            "2022-Oct,6471441\n",
            "2022-Nov,6500903\n",
            "2022-Dec,6997472\n",
            "2023-Jan,6847384\n",
            "2023-Feb,6741948\n",
            "2023-Mar,7317288\n",
            "2023-Apr,7406440\n",
            "2023-May,8109626\n",
            "2023-Jun,7893296\n",
            "2023-Jul,7674890\n",
            "2023-Aug,7867259\n"
          ]
        }
      ]
    },
    {
      "cell_type": "code",
      "source": [
        "llm_output = input()\n",
        "pred = np.array([int(a) for a in llm_output.split(\",\")])"
      ],
      "metadata": {
        "colab": {
          "base_uri": "https://localhost:8080/"
        },
        "id": "QAE1ZQzIJ-mO",
        "outputId": "d852ee7b-a15d-43f0-bcaf-d827d14ae1af"
      },
      "execution_count": 10,
      "outputs": [
        {
          "name": "stdout",
          "output_type": "stream",
          "text": [
            "7835123,8020548,8198962,8274010,8097684,8233897,8390546,8563281,8297216,8539728,8681752,8769829\n"
          ]
        }
      ]
    },
    {
      "cell_type": "code",
      "source": [
        "df = df.set_index(\"MONTH\")\n",
        "\n",
        "last_date = df.index[-1]\n",
        "future_dates = pd.date_range(start=last_date + pd.DateOffset(months=1), periods=12, freq='M')\n",
        "\n",
        "pred_df = pd.DataFrame(pred, index=future_dates, columns=['PASSENGERS CARRIED'])\n",
        "\n",
        "plt.figure(figsize=(10, 6))\n",
        "plt.plot(df.index, df['PASSENGERS CARRIED'], label='Historical Data', color='blue')\n",
        "\n",
        "plt.plot(pred_df.index, pred_df['PASSENGERS CARRIED'], label='Predicted Data', color='orange', linestyle='--')\n",
        "\n",
        "plt.title('Time Series with Predictions')\n",
        "plt.xlabel('Date')\n",
        "plt.ylabel('Value')\n",
        "plt.legend()\n",
        "plt.grid(True)\n",
        "plt.show()"
      ],
      "metadata": {
        "colab": {
          "base_uri": "https://localhost:8080/",
          "height": 620
        },
        "id": "MuybRNX1KIDO",
        "outputId": "baee667e-4f4f-4dcd-c056-14c428d9f337"
      },
      "execution_count": 11,
      "outputs": [
        {
          "output_type": "stream",
          "name": "stderr",
          "text": [
            "<ipython-input-11-bab5285e0f32>:4: FutureWarning: 'M' is deprecated and will be removed in a future version, please use 'ME' instead.\n",
            "  future_dates = pd.date_range(start=last_date + pd.DateOffset(months=1), periods=12, freq='M')\n"
          ]
        },
        {
          "output_type": "display_data",
          "data": {
            "text/plain": [
              "<Figure size 1000x600 with 1 Axes>"
            ],
            "image/png": "[encoded data removed]"
          },
          "metadata": {}
        }
      ]
    }
  ],
  "metadata": {
    "colab": {
      "provenance": []
    },
    "kernelspec": {
      "display_name": "Python 3",
      "name": "python3"
    },
    "language_info": {
      "name": "python"
    }
  },
  "nbformat": 4,
  "nbformat_minor": 0
}